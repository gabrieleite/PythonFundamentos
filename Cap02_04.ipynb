{
  "nbformat": 4,
  "nbformat_minor": 0,
  "metadata": {
    "colab": {
      "name": "Cap02_04.ipynb",
      "provenance": [],
      "authorship_tag": "ABX9TyNGcOKuHjH5hh32NTAjghjQ",
      "include_colab_link": true
    },
    "kernelspec": {
      "name": "python3",
      "display_name": "Python 3"
    },
    "language_info": {
      "name": "python"
    }
  },
  "cells": [
    {
      "cell_type": "markdown",
      "metadata": {
        "id": "view-in-github",
        "colab_type": "text"
      },
      "source": [
        "<a href=\"https://colab.research.google.com/github/gabrieleite/PythonFundamentos/blob/main/Cap02_04.ipynb\" target=\"_parent\"><img src=\"https://colab.research.google.com/assets/colab-badge.svg\" alt=\"Open In Colab\"/></a>"
      ]
    },
    {
      "cell_type": "markdown",
      "source": [
        "# Listas\n"
      ],
      "metadata": {
        "id": "eda5uJBBH6LG"
      }
    },
    {
      "cell_type": "code",
      "source": [
        "# Criando uma lista\n",
        "listadomercado = [\"ovos, farinha, leite, maças\"]"
      ],
      "metadata": {
        "id": "4aA95yeHH7C7"
      },
      "execution_count": 1,
      "outputs": []
    },
    {
      "cell_type": "code",
      "source": [
        "# Imprimindo a lista  \n",
        "print(listadomercado)"
      ],
      "metadata": {
        "colab": {
          "base_uri": "https://localhost:8080/"
        },
        "id": "hH_8TawiJeNe",
        "outputId": "cb02c671-392a-4558-91f4-d92e7fbba31d"
      },
      "execution_count": 2,
      "outputs": [
        {
          "output_type": "stream",
          "name": "stdout",
          "text": [
            "['ovos, farinha, leite, maças']\n"
          ]
        }
      ]
    },
    {
      "cell_type": "code",
      "source": [
        "# Criando outra lista\n",
        "listadomercado2 = [\"ovos\", \"farinha\", \"leite\", \"maças\"]"
      ],
      "metadata": {
        "id": "RumKWf2-JkPg"
      },
      "execution_count": 3,
      "outputs": []
    },
    {
      "cell_type": "code",
      "source": [
        "# Imprimindo a lista\n",
        "print(listadomercado2)"
      ],
      "metadata": {
        "colab": {
          "base_uri": "https://localhost:8080/"
        },
        "id": "4OWDTQpYJqK_",
        "outputId": "61972321-45e1-44e9-8235-8657fd1a230d"
      },
      "execution_count": 4,
      "outputs": [
        {
          "output_type": "stream",
          "name": "stdout",
          "text": [
            "['ovos', 'farinha', 'leite', 'maças']\n"
          ]
        }
      ]
    },
    {
      "cell_type": "code",
      "source": [
        "listadomercado[0]"
      ],
      "metadata": {
        "colab": {
          "base_uri": "https://localhost:8080/",
          "height": 36
        },
        "id": "M7LaLivLJuLS",
        "outputId": "47fdbced-0b54-4822-8fae-7465f652a724"
      },
      "execution_count": 5,
      "outputs": [
        {
          "output_type": "execute_result",
          "data": {
            "text/plain": [
              "'ovos, farinha, leite, maças'"
            ],
            "application/vnd.google.colaboratory.intrinsic+json": {
              "type": "string"
            }
          },
          "metadata": {},
          "execution_count": 5
        }
      ]
    },
    {
      "cell_type": "code",
      "source": [
        "listadomercado2[0]"
      ],
      "metadata": {
        "colab": {
          "base_uri": "https://localhost:8080/",
          "height": 36
        },
        "id": "eTCtJH9dJxpX",
        "outputId": "a6c75e43-fbea-4aef-9d05-562540be02d8"
      },
      "execution_count": 6,
      "outputs": [
        {
          "output_type": "execute_result",
          "data": {
            "text/plain": [
              "'ovos'"
            ],
            "application/vnd.google.colaboratory.intrinsic+json": {
              "type": "string"
            }
          },
          "metadata": {},
          "execution_count": 6
        }
      ]
    },
    {
      "cell_type": "code",
      "source": [
        "# Criando lista\n",
        "lista3 = [12, 100, \"Universidade\"]"
      ],
      "metadata": {
        "id": "-CD0z43OJ0hh"
      },
      "execution_count": 7,
      "outputs": []
    },
    {
      "cell_type": "code",
      "source": [
        "# Imprimindo\n",
        "print(lista3)"
      ],
      "metadata": {
        "colab": {
          "base_uri": "https://localhost:8080/"
        },
        "id": "tpfL94YRJ5Vr",
        "outputId": "35d4bb3f-27ce-4260-ac26-756ee15ee306"
      },
      "execution_count": 8,
      "outputs": [
        {
          "output_type": "stream",
          "name": "stdout",
          "text": [
            "[12, 100, 'Universidade']\n"
          ]
        }
      ]
    },
    {
      "cell_type": "code",
      "source": [
        "lista3 = [12, 100, \"Universidade\"]"
      ],
      "metadata": {
        "id": "7nCGetvmJ_Ls"
      },
      "execution_count": 9,
      "outputs": []
    },
    {
      "cell_type": "code",
      "source": [
        "# Atribuindo cada valor da lista a uma variável\n",
        "item1 = lista3[0]\n",
        "item2 = lista3[1]\n",
        "item3 = lista3[2]"
      ],
      "metadata": {
        "id": "wsppdv18KCWw"
      },
      "execution_count": 10,
      "outputs": []
    },
    {
      "cell_type": "code",
      "source": [
        "# Imprimindo as variáveis\n",
        "print(item1, item2, item3)"
      ],
      "metadata": {
        "colab": {
          "base_uri": "https://localhost:8080/"
        },
        "id": "_bCryP6OKMIS",
        "outputId": "5915a320-a1bf-48d4-b92b-648d72c8f2ab"
      },
      "execution_count": 11,
      "outputs": [
        {
          "output_type": "stream",
          "name": "stdout",
          "text": [
            "12 100 Universidade\n"
          ]
        }
      ]
    },
    {
      "cell_type": "markdown",
      "source": [
        "# Atualizando um item da lista"
      ],
      "metadata": {
        "id": "is-7ZAfRKQuX"
      }
    },
    {
      "cell_type": "code",
      "source": [
        "# Imprimindo um item da lista\n",
        "listadomercado2[2]"
      ],
      "metadata": {
        "colab": {
          "base_uri": "https://localhost:8080/",
          "height": 36
        },
        "id": "hShrE5pHKTFz",
        "outputId": "3868f6d9-4e0d-4370-ae30-2fbb2afd00fb"
      },
      "execution_count": 12,
      "outputs": [
        {
          "output_type": "execute_result",
          "data": {
            "text/plain": [
              "'leite'"
            ],
            "application/vnd.google.colaboratory.intrinsic+json": {
              "type": "string"
            }
          },
          "metadata": {},
          "execution_count": 12
        }
      ]
    },
    {
      "cell_type": "code",
      "source": [
        "# Atualizando um item da lista\n",
        "listadomercado2[2] = \"chocolate\""
      ],
      "metadata": {
        "id": "ViiV1IKEKYlM"
      },
      "execution_count": 14,
      "outputs": []
    },
    {
      "cell_type": "code",
      "source": [
        "# Imprimindo lista alterada\n",
        "listadomercado2"
      ],
      "metadata": {
        "colab": {
          "base_uri": "https://localhost:8080/"
        },
        "id": "4JSyd6tDKgkk",
        "outputId": "57456b8f-fc09-4f68-b4ac-60486af0e419"
      },
      "execution_count": 15,
      "outputs": [
        {
          "output_type": "execute_result",
          "data": {
            "text/plain": [
              "['ovos', 'farinha', 'chocolate', 'maças']"
            ]
          },
          "metadata": {},
          "execution_count": 15
        }
      ]
    },
    {
      "cell_type": "markdown",
      "source": [
        "# Deletando um item da lista"
      ],
      "metadata": {
        "id": "vCqaA7UjKk-N"
      }
    },
    {
      "cell_type": "code",
      "source": [
        "# Deletando um item específico da lista\n",
        "del listadomercado2[3]"
      ],
      "metadata": {
        "id": "Zi8SlU7vKdk8"
      },
      "execution_count": 16,
      "outputs": []
    },
    {
      "cell_type": "code",
      "source": [
        "listadomercado2"
      ],
      "metadata": {
        "colab": {
          "base_uri": "https://localhost:8080/"
        },
        "id": "GdI2yMnoKtxZ",
        "outputId": "4e344f3a-b972-43c3-d342-894e985af70e"
      },
      "execution_count": 17,
      "outputs": [
        {
          "output_type": "execute_result",
          "data": {
            "text/plain": [
              "['ovos', 'farinha', 'chocolate']"
            ]
          },
          "metadata": {},
          "execution_count": 17
        }
      ]
    },
    {
      "cell_type": "markdown",
      "source": [
        "# Listas de listas (Listas aninhadas)\n",
        "Listas de listas são matrizes em Python"
      ],
      "metadata": {
        "id": "BsH2GL6JKwZd"
      }
    },
    {
      "cell_type": "code",
      "source": [
        "# Criando uma lista de listas\n",
        "listas = [[1,2,3], [10,15,14], [10.2, 8.7, 2.3]]"
      ],
      "metadata": {
        "id": "oSK4-HToK2I_"
      },
      "execution_count": 18,
      "outputs": []
    },
    {
      "cell_type": "code",
      "source": [
        "# imprimindo a lista\n",
        "listas"
      ],
      "metadata": {
        "colab": {
          "base_uri": "https://localhost:8080/"
        },
        "id": "g3rzrsiqLRv1",
        "outputId": "06235a62-9624-4839-ae8d-e663307c193c"
      },
      "execution_count": 19,
      "outputs": [
        {
          "output_type": "execute_result",
          "data": {
            "text/plain": [
              "[[1, 2, 3], [10, 15, 14], [10.2, 8.7, 2.3]]"
            ]
          },
          "metadata": {},
          "execution_count": 19
        }
      ]
    },
    {
      "cell_type": "code",
      "source": [
        "# atribuindo um item da lista a uma variável\n",
        "a = listas[0]"
      ],
      "metadata": {
        "id": "AnKFrTqxLUNp"
      },
      "execution_count": 20,
      "outputs": []
    },
    {
      "cell_type": "code",
      "source": [
        "a"
      ],
      "metadata": {
        "colab": {
          "base_uri": "https://localhost:8080/"
        },
        "id": "9vK9glKrLZMY",
        "outputId": "a72c4f73-d8cf-4854-c271-d46584d32c57"
      },
      "execution_count": 21,
      "outputs": [
        {
          "output_type": "execute_result",
          "data": {
            "text/plain": [
              "[1, 2, 3]"
            ]
          },
          "metadata": {},
          "execution_count": 21
        }
      ]
    },
    {
      "cell_type": "code",
      "source": [
        "b = a[0]"
      ],
      "metadata": {
        "id": "T-BvSrUgLbGf"
      },
      "execution_count": 22,
      "outputs": []
    },
    {
      "cell_type": "code",
      "source": [
        "b"
      ],
      "metadata": {
        "colab": {
          "base_uri": "https://localhost:8080/"
        },
        "id": "70Y6Jiv4Lcrh",
        "outputId": "75cf0872-e65a-49c5-b645-8478e1eba817"
      },
      "execution_count": 23,
      "outputs": [
        {
          "output_type": "execute_result",
          "data": {
            "text/plain": [
              "1"
            ]
          },
          "metadata": {},
          "execution_count": 23
        }
      ]
    },
    {
      "cell_type": "code",
      "source": [
        "list1 = listas[1]"
      ],
      "metadata": {
        "id": "mE0u7O-3Ld4w"
      },
      "execution_count": 24,
      "outputs": []
    },
    {
      "cell_type": "code",
      "source": [
        "list1"
      ],
      "metadata": {
        "colab": {
          "base_uri": "https://localhost:8080/"
        },
        "id": "6LYpzitnLgUj",
        "outputId": "88134ba0-5f8f-4f33-918f-c3bc02994cb5"
      },
      "execution_count": 25,
      "outputs": [
        {
          "output_type": "execute_result",
          "data": {
            "text/plain": [
              "[10, 15, 14]"
            ]
          },
          "metadata": {},
          "execution_count": 25
        }
      ]
    },
    {
      "cell_type": "code",
      "source": [
        "valor_1_0 = list1[0]"
      ],
      "metadata": {
        "id": "1tKOr9pVLjJo"
      },
      "execution_count": 27,
      "outputs": []
    },
    {
      "cell_type": "code",
      "source": [
        "valor_1_0"
      ],
      "metadata": {
        "colab": {
          "base_uri": "https://localhost:8080/"
        },
        "id": "oca68s0OLnrP",
        "outputId": "54bb1fb3-f2d1-49b5-9a11-62c886570484"
      },
      "execution_count": 28,
      "outputs": [
        {
          "output_type": "execute_result",
          "data": {
            "text/plain": [
              "10"
            ]
          },
          "metadata": {},
          "execution_count": 28
        }
      ]
    },
    {
      "cell_type": "code",
      "source": [
        "valor_1_2 = list1[2]"
      ],
      "metadata": {
        "id": "XSzV3OF5Lpy2"
      },
      "execution_count": 29,
      "outputs": []
    },
    {
      "cell_type": "code",
      "source": [
        "valor_1_2"
      ],
      "metadata": {
        "colab": {
          "base_uri": "https://localhost:8080/"
        },
        "id": "fURUnsm4LseV",
        "outputId": "da88ba44-91d4-40e6-e5cc-ee0b08079f7c"
      },
      "execution_count": 30,
      "outputs": [
        {
          "output_type": "execute_result",
          "data": {
            "text/plain": [
              "14"
            ]
          },
          "metadata": {},
          "execution_count": 30
        }
      ]
    },
    {
      "cell_type": "code",
      "source": [
        "list2 = listas[2]"
      ],
      "metadata": {
        "id": "rGOC5RJGLuHG"
      },
      "execution_count": 31,
      "outputs": []
    },
    {
      "cell_type": "code",
      "source": [
        "list2"
      ],
      "metadata": {
        "colab": {
          "base_uri": "https://localhost:8080/"
        },
        "id": "g6CsroSWLwWi",
        "outputId": "775a4037-b6a2-4fff-b17a-0d66e6e24103"
      },
      "execution_count": 32,
      "outputs": [
        {
          "output_type": "execute_result",
          "data": {
            "text/plain": [
              "[10.2, 8.7, 2.3]"
            ]
          },
          "metadata": {},
          "execution_count": 32
        }
      ]
    },
    {
      "cell_type": "code",
      "source": [
        "valor_2_0 = list2[0]"
      ],
      "metadata": {
        "id": "NtbTDaVlLxub"
      },
      "execution_count": 33,
      "outputs": []
    },
    {
      "cell_type": "code",
      "source": [
        "valor_2_0"
      ],
      "metadata": {
        "colab": {
          "base_uri": "https://localhost:8080/"
        },
        "id": "vcEHwv4BL1L2",
        "outputId": "0f47e017-5b35-4ebf-f72a-600381fde5e8"
      },
      "execution_count": 34,
      "outputs": [
        {
          "output_type": "execute_result",
          "data": {
            "text/plain": [
              "10.2"
            ]
          },
          "metadata": {},
          "execution_count": 34
        }
      ]
    },
    {
      "cell_type": "markdown",
      "source": [
        "# Operações com listas"
      ],
      "metadata": {
        "id": "iN-HjvitL4oH"
      }
    },
    {
      "cell_type": "code",
      "source": [
        "# Criando uma listas aninhada (linha de listas)\n",
        "listas = [[1,2,3], [10,15,24], [10.1, 8.7, 2.3]]"
      ],
      "metadata": {
        "id": "R8RJH4ecL6gT"
      },
      "execution_count": 35,
      "outputs": []
    },
    {
      "cell_type": "code",
      "source": [
        "listas"
      ],
      "metadata": {
        "colab": {
          "base_uri": "https://localhost:8080/"
        },
        "id": "9bUMwHAoME_D",
        "outputId": "9a182260-e2b8-4c16-a068-6aff00e28fde"
      },
      "execution_count": 36,
      "outputs": [
        {
          "output_type": "execute_result",
          "data": {
            "text/plain": [
              "[[1, 2, 3], [10, 15, 24], [10.1, 8.7, 2.3]]"
            ]
          },
          "metadata": {},
          "execution_count": 36
        }
      ]
    },
    {
      "cell_type": "code",
      "source": [
        "# Atribuindo à variável a, o primeiro valor da primeira lista\n",
        "a = listas[0][0]\n",
        "a"
      ],
      "metadata": {
        "colab": {
          "base_uri": "https://localhost:8080/"
        },
        "id": "BskPymgwMGjL",
        "outputId": "4f6ec74c-58b8-4321-e2ca-7d574ff05491"
      },
      "execution_count": 37,
      "outputs": [
        {
          "output_type": "execute_result",
          "data": {
            "text/plain": [
              "1"
            ]
          },
          "metadata": {},
          "execution_count": 37
        }
      ]
    },
    {
      "cell_type": "code",
      "source": [
        "b = listas[1][2]\n",
        "b"
      ],
      "metadata": {
        "colab": {
          "base_uri": "https://localhost:8080/"
        },
        "id": "Qia23C2mMPcK",
        "outputId": "5f672471-7bfd-4163-dd27-f6e3c6c3696a"
      },
      "execution_count": 38,
      "outputs": [
        {
          "output_type": "execute_result",
          "data": {
            "text/plain": [
              "24"
            ]
          },
          "metadata": {},
          "execution_count": 38
        }
      ]
    },
    {
      "cell_type": "code",
      "source": [
        "c = listas[0][2] + 10\n",
        "c"
      ],
      "metadata": {
        "colab": {
          "base_uri": "https://localhost:8080/"
        },
        "id": "m5owAQ3EMURO",
        "outputId": "c1464f97-3fcf-411e-b125-b8fa5bc43a30"
      },
      "execution_count": 39,
      "outputs": [
        {
          "output_type": "execute_result",
          "data": {
            "text/plain": [
              "13"
            ]
          },
          "metadata": {},
          "execution_count": 39
        }
      ]
    },
    {
      "cell_type": "code",
      "source": [
        "d = 10\n",
        "d"
      ],
      "metadata": {
        "colab": {
          "base_uri": "https://localhost:8080/"
        },
        "id": "kYszTEToMZUg",
        "outputId": "f4031ea7-956b-4607-93bf-13e9d38979d6"
      },
      "execution_count": 40,
      "outputs": [
        {
          "output_type": "execute_result",
          "data": {
            "text/plain": [
              "10"
            ]
          },
          "metadata": {},
          "execution_count": 40
        }
      ]
    },
    {
      "cell_type": "code",
      "source": [
        "e = d * listas[2][0]"
      ],
      "metadata": {
        "id": "yTditveiMbjc"
      },
      "execution_count": 41,
      "outputs": []
    },
    {
      "cell_type": "code",
      "source": [
        "e"
      ],
      "metadata": {
        "colab": {
          "base_uri": "https://localhost:8080/"
        },
        "id": "BfQtSDXsMgKt",
        "outputId": "e3f8293b-f667-42bb-a62f-c2d50ab34a76"
      },
      "execution_count": 42,
      "outputs": [
        {
          "output_type": "execute_result",
          "data": {
            "text/plain": [
              "101.0"
            ]
          },
          "metadata": {},
          "execution_count": 42
        }
      ]
    },
    {
      "cell_type": "markdown",
      "source": [
        "# Concatenando Listas"
      ],
      "metadata": {
        "id": "ebtanPlfMiSJ"
      }
    },
    {
      "cell_type": "code",
      "source": [
        "lista_s1 = [34, 32, 56]\n",
        "lista_s1"
      ],
      "metadata": {
        "colab": {
          "base_uri": "https://localhost:8080/"
        },
        "id": "biGihBBqMkhb",
        "outputId": "9e57464f-f9cf-49e4-8a29-10f79dc605f3"
      },
      "execution_count": 43,
      "outputs": [
        {
          "output_type": "execute_result",
          "data": {
            "text/plain": [
              "[34, 32, 56]"
            ]
          },
          "metadata": {},
          "execution_count": 43
        }
      ]
    },
    {
      "cell_type": "code",
      "source": [
        "lista_s2 = [21, 90, 51]\n",
        "lista_s2"
      ],
      "metadata": {
        "colab": {
          "base_uri": "https://localhost:8080/"
        },
        "id": "V7ECqnaJMpJK",
        "outputId": "40fe1f01-82a2-45ab-9c83-6b8c47a4204d"
      },
      "execution_count": 44,
      "outputs": [
        {
          "output_type": "execute_result",
          "data": {
            "text/plain": [
              "[21, 90, 51]"
            ]
          },
          "metadata": {},
          "execution_count": 44
        }
      ]
    },
    {
      "cell_type": "code",
      "source": [
        "# Concatenando listas\n",
        "lista_total = lista_s1 + lista_s2\n",
        "lista_total"
      ],
      "metadata": {
        "colab": {
          "base_uri": "https://localhost:8080/"
        },
        "id": "66ZUtfpvMuYQ",
        "outputId": "efe56d3e-8c1c-4c22-f4b2-0ee599f17974"
      },
      "execution_count": 45,
      "outputs": [
        {
          "output_type": "execute_result",
          "data": {
            "text/plain": [
              "[34, 32, 56, 21, 90, 51]"
            ]
          },
          "metadata": {},
          "execution_count": 45
        }
      ]
    },
    {
      "cell_type": "markdown",
      "source": [
        "# Operador In"
      ],
      "metadata": {
        "id": "53BnuT0PM1K3"
      }
    },
    {
      "cell_type": "code",
      "source": [
        "# Criando uma lista\n",
        "lista_teste_op = [100, 2, -5, 3.4]\n"
      ],
      "metadata": {
        "id": "u-tFnSYrM38g"
      },
      "execution_count": 46,
      "outputs": []
    },
    {
      "cell_type": "code",
      "source": [
        "# Verificando se o valor 10 pertence a lista\n",
        "print(10 in lista_teste_op)"
      ],
      "metadata": {
        "colab": {
          "base_uri": "https://localhost:8080/"
        },
        "id": "rp4w2ojCM_MT",
        "outputId": "df4b4778-a07c-4a7e-ec29-edca8144b7dd"
      },
      "execution_count": 47,
      "outputs": [
        {
          "output_type": "stream",
          "name": "stdout",
          "text": [
            "False\n"
          ]
        }
      ]
    },
    {
      "cell_type": "code",
      "source": [
        "# Verificando se o valor 100 pertence a lista\n",
        "print(100 in lista_teste_op)"
      ],
      "metadata": {
        "colab": {
          "base_uri": "https://localhost:8080/"
        },
        "id": "wl23mQIXNFBf",
        "outputId": "2131adcc-5f41-4bbd-d0f4-f7b23a9f37b1"
      },
      "execution_count": 48,
      "outputs": [
        {
          "output_type": "stream",
          "name": "stdout",
          "text": [
            "True\n"
          ]
        }
      ]
    },
    {
      "cell_type": "markdown",
      "source": [
        "# Funções Built-in"
      ],
      "metadata": {
        "id": "tBY-X4QONKhY"
      }
    },
    {
      "cell_type": "code",
      "source": [
        "# Função len() retorna o comprimento da lista\n",
        "len(lista_teste_op)"
      ],
      "metadata": {
        "colab": {
          "base_uri": "https://localhost:8080/"
        },
        "id": "Jn9lCXrCNOS2",
        "outputId": "b14cbfc6-ce8e-47d9-a0aa-f99fec802c6a"
      },
      "execution_count": 49,
      "outputs": [
        {
          "output_type": "execute_result",
          "data": {
            "text/plain": [
              "4"
            ]
          },
          "metadata": {},
          "execution_count": 49
        }
      ]
    },
    {
      "cell_type": "code",
      "source": [
        "# Função max() retorna o valor máximo da lista\n",
        "max(lista_teste_op)"
      ],
      "metadata": {
        "colab": {
          "base_uri": "https://localhost:8080/"
        },
        "id": "4bH9hvAfNTpj",
        "outputId": "06e2d057-f41c-4908-8cfc-adafbafb6bd8"
      },
      "execution_count": 50,
      "outputs": [
        {
          "output_type": "execute_result",
          "data": {
            "text/plain": [
              "100"
            ]
          },
          "metadata": {},
          "execution_count": 50
        }
      ]
    },
    {
      "cell_type": "code",
      "source": [
        "# Função min() retorna o valor mínimo da lista\n",
        "min(lista_teste_op)"
      ],
      "metadata": {
        "colab": {
          "base_uri": "https://localhost:8080/"
        },
        "id": "GtaQ9pHgNZET",
        "outputId": "ab18b469-64d3-40e5-dd75-b32bdf7aed6e"
      },
      "execution_count": 51,
      "outputs": [
        {
          "output_type": "execute_result",
          "data": {
            "text/plain": [
              "-5"
            ]
          },
          "metadata": {},
          "execution_count": 51
        }
      ]
    },
    {
      "cell_type": "code",
      "source": [
        "# Criando uma lista\n",
        "listadomercado2 = [\"ovos\", \"farinha\", \"leite\", \"maças\"]"
      ],
      "metadata": {
        "id": "IesZ92RINgrs"
      },
      "execution_count": 52,
      "outputs": []
    },
    {
      "cell_type": "code",
      "source": [
        "# Adicionando um item à lista\n",
        "listadomercado2.append(\"carne\")\n",
        "listadomercado2"
      ],
      "metadata": {
        "colab": {
          "base_uri": "https://localhost:8080/"
        },
        "id": "vXWzfCMFNmHe",
        "outputId": "26545e1c-f7c7-4ca9-929b-8c863ff84946"
      },
      "execution_count": 53,
      "outputs": [
        {
          "output_type": "execute_result",
          "data": {
            "text/plain": [
              "['ovos', 'farinha', 'leite', 'maças', 'carne']"
            ]
          },
          "metadata": {},
          "execution_count": 53
        }
      ]
    },
    {
      "cell_type": "code",
      "source": [
        "listadomercado2.append(\"carne\")\n",
        "listadomercado2"
      ],
      "metadata": {
        "colab": {
          "base_uri": "https://localhost:8080/"
        },
        "id": "TeRJJlsyNu3s",
        "outputId": "6e9db0e7-6767-479b-ec98-20a76347b7a9"
      },
      "execution_count": 54,
      "outputs": [
        {
          "output_type": "execute_result",
          "data": {
            "text/plain": [
              "['ovos', 'farinha', 'leite', 'maças', 'carne', 'carne']"
            ]
          },
          "metadata": {},
          "execution_count": 54
        }
      ]
    },
    {
      "cell_type": "code",
      "source": [
        "listadomercado2.count(\"carne\")"
      ],
      "metadata": {
        "colab": {
          "base_uri": "https://localhost:8080/"
        },
        "id": "iUGz0tnDN0Yj",
        "outputId": "3f2b521a-a6e8-4e25-ea30-f174dd48eaf4"
      },
      "execution_count": 55,
      "outputs": [
        {
          "output_type": "execute_result",
          "data": {
            "text/plain": [
              "2"
            ]
          },
          "metadata": {},
          "execution_count": 55
        }
      ]
    },
    {
      "cell_type": "code",
      "source": [
        "# Criando uma lista vazia \n",
        "a = []\n",
        "print(a)"
      ],
      "metadata": {
        "colab": {
          "base_uri": "https://localhost:8080/"
        },
        "id": "CUO9BgV-N3Ll",
        "outputId": "ac0b5074-22b4-40fe-f2df-f06326db127e"
      },
      "execution_count": 56,
      "outputs": [
        {
          "output_type": "stream",
          "name": "stdout",
          "text": [
            "[]\n"
          ]
        }
      ]
    },
    {
      "cell_type": "code",
      "source": [
        "type(a)"
      ],
      "metadata": {
        "colab": {
          "base_uri": "https://localhost:8080/"
        },
        "id": "F_ZUsb-rN8h3",
        "outputId": "9d0d8207-8dc5-4bfa-9bbf-62a191f7b677"
      },
      "execution_count": 57,
      "outputs": [
        {
          "output_type": "execute_result",
          "data": {
            "text/plain": [
              "list"
            ]
          },
          "metadata": {},
          "execution_count": 57
        }
      ]
    },
    {
      "cell_type": "code",
      "source": [
        "a.append(10)\n",
        "a"
      ],
      "metadata": {
        "colab": {
          "base_uri": "https://localhost:8080/"
        },
        "id": "DvvdWNkeOAPB",
        "outputId": "04f2b33b-ae07-4da2-9c05-9d207ae597cd"
      },
      "execution_count": 58,
      "outputs": [
        {
          "output_type": "execute_result",
          "data": {
            "text/plain": [
              "[10]"
            ]
          },
          "metadata": {},
          "execution_count": 58
        }
      ]
    },
    {
      "cell_type": "code",
      "source": [
        "a.append(50)\n",
        "a"
      ],
      "metadata": {
        "colab": {
          "base_uri": "https://localhost:8080/"
        },
        "id": "-UicXO8MOETI",
        "outputId": "1e18a9a8-e7a8-4c7c-d5fc-f3900e337644"
      },
      "execution_count": 59,
      "outputs": [
        {
          "output_type": "execute_result",
          "data": {
            "text/plain": [
              "[10, 50]"
            ]
          },
          "metadata": {},
          "execution_count": 59
        }
      ]
    },
    {
      "cell_type": "code",
      "source": [
        "old_list = [1,2,5,10]\n"
      ],
      "metadata": {
        "id": "Kpta2-QfOHNj"
      },
      "execution_count": 60,
      "outputs": []
    },
    {
      "cell_type": "code",
      "source": [
        "new_list = []"
      ],
      "metadata": {
        "id": "DbrSt2seOKQ8"
      },
      "execution_count": 61,
      "outputs": []
    },
    {
      "cell_type": "code",
      "source": [
        "# Copiando os itens de uma lista para outra\n",
        "for item in old_list:\n",
        "  new_list.append(item)"
      ],
      "metadata": {
        "id": "3eUdrABcOMwR"
      },
      "execution_count": 62,
      "outputs": []
    },
    {
      "cell_type": "code",
      "source": [
        "new_list"
      ],
      "metadata": {
        "colab": {
          "base_uri": "https://localhost:8080/"
        },
        "id": "JAPC83GeOWib",
        "outputId": "72570446-39b6-481d-891b-5df8923112e9"
      },
      "execution_count": 63,
      "outputs": [
        {
          "output_type": "execute_result",
          "data": {
            "text/plain": [
              "[1, 2, 5, 10]"
            ]
          },
          "metadata": {},
          "execution_count": 63
        }
      ]
    },
    {
      "cell_type": "code",
      "source": [
        "c = [20,30]"
      ],
      "metadata": {
        "id": "TKXEsneEOXo-"
      },
      "execution_count": 64,
      "outputs": []
    },
    {
      "cell_type": "code",
      "source": [
        "c.append(60)\n",
        "c.append(70)\n",
        "c"
      ],
      "metadata": {
        "colab": {
          "base_uri": "https://localhost:8080/"
        },
        "id": "9PonmA0cOaDn",
        "outputId": "55878fad-414b-4aa6-8498-712b9da0743a"
      },
      "execution_count": 65,
      "outputs": [
        {
          "output_type": "execute_result",
          "data": {
            "text/plain": [
              "[20, 30, 60, 70]"
            ]
          },
          "metadata": {},
          "execution_count": 65
        }
      ]
    },
    {
      "cell_type": "code",
      "source": [
        "c.count(20)"
      ],
      "metadata": {
        "colab": {
          "base_uri": "https://localhost:8080/"
        },
        "id": "OdHSScZkOgJI",
        "outputId": "fae0ba17-9323-4802-d655-7536073927ce"
      },
      "execution_count": 66,
      "outputs": [
        {
          "output_type": "execute_result",
          "data": {
            "text/plain": [
              "1"
            ]
          },
          "metadata": {},
          "execution_count": 66
        }
      ]
    },
    {
      "cell_type": "code",
      "source": [
        "cidades = ['Recife', 'Manaus', 'Salvador']\n",
        "cidades.extend(['Fortaleza', 'Palmas'])\n",
        "print(cidades)"
      ],
      "metadata": {
        "colab": {
          "base_uri": "https://localhost:8080/"
        },
        "id": "HiB_Zl1wOhn-",
        "outputId": "e9fe9e12-7709-4480-f2c3-0911084806b6"
      },
      "execution_count": 67,
      "outputs": [
        {
          "output_type": "stream",
          "name": "stdout",
          "text": [
            "['Recife', 'Manaus', 'Salvador', 'Fortaleza', 'Palmas']\n"
          ]
        }
      ]
    },
    {
      "cell_type": "code",
      "source": [
        "cidades.index('Salvador')"
      ],
      "metadata": {
        "colab": {
          "base_uri": "https://localhost:8080/"
        },
        "id": "koOTv0BjOtUO",
        "outputId": "3294385f-d433-48cf-9d59-f7a40ce4e072"
      },
      "execution_count": 68,
      "outputs": [
        {
          "output_type": "execute_result",
          "data": {
            "text/plain": [
              "2"
            ]
          },
          "metadata": {},
          "execution_count": 68
        }
      ]
    },
    {
      "cell_type": "markdown",
      "source": [
        "Lembre-se: em Python o índice começa por 0"
      ],
      "metadata": {
        "id": "xjXFmwxDOwab"
      }
    },
    {
      "cell_type": "code",
      "source": [
        "cidades"
      ],
      "metadata": {
        "colab": {
          "base_uri": "https://localhost:8080/"
        },
        "id": "_twnGFbmO0-6",
        "outputId": "bfc5e90b-2758-4da5-8bd1-e27e2ef82231"
      },
      "execution_count": 69,
      "outputs": [
        {
          "output_type": "execute_result",
          "data": {
            "text/plain": [
              "['Recife', 'Manaus', 'Salvador', 'Fortaleza', 'Palmas']"
            ]
          },
          "metadata": {},
          "execution_count": 69
        }
      ]
    },
    {
      "cell_type": "code",
      "source": [
        "cidades.insert(2,110)"
      ],
      "metadata": {
        "id": "_lCUfpVRO4nf"
      },
      "execution_count": 70,
      "outputs": []
    },
    {
      "cell_type": "code",
      "source": [
        "cidades"
      ],
      "metadata": {
        "colab": {
          "base_uri": "https://localhost:8080/"
        },
        "id": "h9ONjXwCO7i0",
        "outputId": "5476ac00-2216-4452-faf2-db7d12527099"
      },
      "execution_count": 71,
      "outputs": [
        {
          "output_type": "execute_result",
          "data": {
            "text/plain": [
              "['Recife', 'Manaus', 110, 'Salvador', 'Fortaleza', 'Palmas']"
            ]
          },
          "metadata": {},
          "execution_count": 71
        }
      ]
    },
    {
      "cell_type": "code",
      "source": [
        "# Remove um item da lista\n",
        "cidades.remove(110)\n",
        "cidades"
      ],
      "metadata": {
        "colab": {
          "base_uri": "https://localhost:8080/"
        },
        "id": "tbuC_LqqO-Pm",
        "outputId": "f10204c0-7a4e-4f39-8795-db681f051890"
      },
      "execution_count": 72,
      "outputs": [
        {
          "output_type": "execute_result",
          "data": {
            "text/plain": [
              "['Recife', 'Manaus', 'Salvador', 'Fortaleza', 'Palmas']"
            ]
          },
          "metadata": {},
          "execution_count": 72
        }
      ]
    },
    {
      "cell_type": "code",
      "source": [
        "# Reverte a lista\n",
        "cidades.reverse()\n",
        "cidades"
      ],
      "metadata": {
        "colab": {
          "base_uri": "https://localhost:8080/"
        },
        "id": "2nVZFD2bPDDj",
        "outputId": "5681cf47-d1dc-4e0d-ccd7-781c3de8d396"
      },
      "execution_count": 73,
      "outputs": [
        {
          "output_type": "execute_result",
          "data": {
            "text/plain": [
              "['Palmas', 'Fortaleza', 'Salvador', 'Manaus', 'Recife']"
            ]
          },
          "metadata": {},
          "execution_count": 73
        }
      ]
    },
    {
      "cell_type": "code",
      "source": [
        "x = [3,4,2,1]\n",
        "x"
      ],
      "metadata": {
        "colab": {
          "base_uri": "https://localhost:8080/"
        },
        "id": "5Mt9k94XPI-x",
        "outputId": "bb59c92d-4aae-4ee5-95a6-8e24083fb345"
      },
      "execution_count": 74,
      "outputs": [
        {
          "output_type": "execute_result",
          "data": {
            "text/plain": [
              "[3, 4, 2, 1]"
            ]
          },
          "metadata": {},
          "execution_count": 74
        }
      ]
    },
    {
      "cell_type": "code",
      "source": [
        "# Ordena a lista\n",
        "x.sort()\n",
        "x"
      ],
      "metadata": {
        "colab": {
          "base_uri": "https://localhost:8080/"
        },
        "id": "nM9qfz_uPLUc",
        "outputId": "353ea1db-13b9-445d-cb67-43a1f53cb2bb"
      },
      "execution_count": 75,
      "outputs": [
        {
          "output_type": "execute_result",
          "data": {
            "text/plain": [
              "[1, 2, 3, 4]"
            ]
          },
          "metadata": {},
          "execution_count": 75
        }
      ]
    }
  ]
}