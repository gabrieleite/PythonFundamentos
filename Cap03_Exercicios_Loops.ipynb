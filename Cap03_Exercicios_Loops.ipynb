{
  "nbformat": 4,
  "nbformat_minor": 0,
  "metadata": {
    "colab": {
      "name": "Cap03_Exercicios_Loops.ipynb",
      "provenance": [],
      "authorship_tag": "ABX9TyMhZZtEDiyW0BUgDFPSmMf9",
      "include_colab_link": true
    },
    "kernelspec": {
      "name": "python3",
      "display_name": "Python 3"
    },
    "language_info": {
      "name": "python"
    }
  },
  "cells": [
    {
      "cell_type": "markdown",
      "metadata": {
        "id": "view-in-github",
        "colab_type": "text"
      },
      "source": [
        "<a href=\"https://colab.research.google.com/github/gabrieleite/PythonFundamentos/blob/main/Cap03_Exercicios_Loops.ipynb\" target=\"_parent\"><img src=\"https://colab.research.google.com/assets/colab-badge.svg\" alt=\"Open In Colab\"/></a>"
      ]
    },
    {
      "cell_type": "markdown",
      "source": [
        "# Exercícios Loops e estruturas\n"
      ],
      "metadata": {
        "id": "dQwiKSVnRibp"
      }
    },
    {
      "cell_type": "code",
      "source": [
        "# Exercício 1 - Crie uma estrutura que pergunte ao usuário qual o dia da semana. Se o dia for igual a Domingo ou \n",
        "# igual a sábado, imprima na tela \"Hoje é dia de descanso\", caso contrário imprima na tela \"Você precisa trabalhar!\"\n",
        "\n",
        "dia = input('Qual o dia da semana? ')\n",
        "\n",
        "if dia == 'Sábado' or dia == 'Domingo':\n",
        "  print('Hoje é dia de descanso!')\n",
        "else:\n",
        "  print('Você precisa trabalhar!')"
      ],
      "metadata": {
        "colab": {
          "base_uri": "https://localhost:8080/"
        },
        "id": "5PJc7jxZR-xX",
        "outputId": "e2ce4304-3006-4267-da26-1c8ee2512bd6"
      },
      "execution_count": 3,
      "outputs": [
        {
          "output_type": "stream",
          "name": "stdout",
          "text": [
            "Qual o dia da semana? Terça\n",
            "Você precisa trabalhar!\n"
          ]
        }
      ]
    },
    {
      "cell_type": "code",
      "source": [
        "# Exercício 2 - Crie uma lista de 5 frutas e verifique se a fruta 'Morango' faz parte da lista\n",
        "\n",
        "lista = ['Uva', 'Pêra', 'Maça', 'Morango', 'Pêssego']\n",
        "\n",
        "for i in lista:\n",
        "  if i == 'Morango':\n",
        "    print('Morango faz parte da lista')\n",
        "  "
      ],
      "metadata": {
        "colab": {
          "base_uri": "https://localhost:8080/"
        },
        "id": "ZCX-pugfS6ee",
        "outputId": "e49b4117-395e-4efc-b656-77a0cd73207b"
      },
      "execution_count": 8,
      "outputs": [
        {
          "output_type": "stream",
          "name": "stdout",
          "text": [
            "Morango faz parte da lista\n"
          ]
        }
      ]
    },
    {
      "cell_type": "code",
      "source": [
        "# Exercício 3 - Crie uma tupla de 4 elementos, multiplique cada elemento da tupla por 2 e guarde os resultados em uma \n",
        "# lista\n",
        "tupla = (20,40,60,80)\n",
        "lista = []\n",
        "\n",
        "for i in tupla:\n",
        "  dobro = i * 2\n",
        "  lista.append(dobro)\n",
        "\n",
        "print(lista)"
      ],
      "metadata": {
        "colab": {
          "base_uri": "https://localhost:8080/"
        },
        "id": "ILu0y4K-Tp15",
        "outputId": "d3836a11-2d80-4bf3-ecbc-71c763b2ec93"
      },
      "execution_count": 11,
      "outputs": [
        {
          "output_type": "stream",
          "name": "stdout",
          "text": [
            "[40, 80, 120, 160]\n"
          ]
        }
      ]
    },
    {
      "cell_type": "code",
      "source": [
        "# Exercício 4 - Crie uma sequência de números pares entre 100 e 150 e imprima na tela\n",
        "\n",
        "for i in range(100,150,2):\n",
        "  print(i)"
      ],
      "metadata": {
        "colab": {
          "base_uri": "https://localhost:8080/"
        },
        "id": "kqa8_3xtUMCi",
        "outputId": "c6184ef2-a86c-4672-8768-54d494dbdf28"
      },
      "execution_count": 12,
      "outputs": [
        {
          "output_type": "stream",
          "name": "stdout",
          "text": [
            "100\n",
            "102\n",
            "104\n",
            "106\n",
            "108\n",
            "110\n",
            "112\n",
            "114\n",
            "116\n",
            "118\n",
            "120\n",
            "122\n",
            "124\n",
            "126\n",
            "128\n",
            "130\n",
            "132\n",
            "134\n",
            "136\n",
            "138\n",
            "140\n",
            "142\n",
            "144\n",
            "146\n",
            "148\n"
          ]
        }
      ]
    },
    {
      "cell_type": "code",
      "source": [
        "# Exercício 5 - Crie uma variável chamada temperatura e atribua o valor 40. Enquanto temperatura for maior que 35, \n",
        "# imprima as temperaturas na tela\n",
        "\n",
        "temperatura = 40\n",
        "\n",
        "while temperatura > 35:\n",
        "  print(temperatura)\n",
        "  temperatura -= 1"
      ],
      "metadata": {
        "colab": {
          "base_uri": "https://localhost:8080/"
        },
        "id": "CcZb5JzoUTol",
        "outputId": "ac0edd67-e0a0-44df-bef2-281b7c586c26"
      },
      "execution_count": 13,
      "outputs": [
        {
          "output_type": "stream",
          "name": "stdout",
          "text": [
            "40\n",
            "39\n",
            "38\n",
            "37\n",
            "36\n"
          ]
        }
      ]
    },
    {
      "cell_type": "code",
      "source": [
        "# Exercício 6 - Crie uma variável chamada contador = 0. Enquanto counter for menor que 100, imprima os valores na tela,\n",
        "# mas quando for encontrado o valor 23, interrompa a execução do programa\n",
        "\n",
        "contador = 0\n",
        "\n",
        "while contador < 100:\n",
        "  print(contador)\n",
        "  if contador == 23:\n",
        "    break\n",
        "  else:\n",
        "    pass\n",
        "  contador += 1"
      ],
      "metadata": {
        "colab": {
          "base_uri": "https://localhost:8080/"
        },
        "id": "JiJ5HhanUh--",
        "outputId": "e8c53b1c-6989-4979-fdd3-86215cc7ea2c"
      },
      "execution_count": 16,
      "outputs": [
        {
          "output_type": "stream",
          "name": "stdout",
          "text": [
            "0\n",
            "1\n",
            "2\n",
            "3\n",
            "4\n",
            "5\n",
            "6\n",
            "7\n",
            "8\n",
            "9\n",
            "10\n",
            "11\n",
            "12\n",
            "13\n",
            "14\n",
            "15\n",
            "16\n",
            "17\n",
            "18\n",
            "19\n",
            "20\n",
            "21\n",
            "22\n",
            "23\n"
          ]
        }
      ]
    },
    {
      "cell_type": "code",
      "source": [
        "# Exercício 7 - Crie uma lista vazia e uma variável com valor 4. Enquanto o valor da variável for menor ou igual a 20, \n",
        "# adicione à lista, apenas os valores pares e imprima a lista\n",
        "\n",
        "lista2 = []\n",
        "variavel = 4\n",
        "\n",
        "while variavel <= 20:\n",
        "  if variavel % 2 == 0:\n",
        "    par = variavel\n",
        "    lista2.append(par)\n",
        "  variavel += 1\n",
        "\n",
        "print(lista2)"
      ],
      "metadata": {
        "colab": {
          "base_uri": "https://localhost:8080/"
        },
        "id": "MDSIQ6XWVvex",
        "outputId": "e5da0d17-06ff-4762-ca43-02b39712e5dc"
      },
      "execution_count": 19,
      "outputs": [
        {
          "output_type": "stream",
          "name": "stdout",
          "text": [
            "[4, 6, 8, 10, 12, 14, 16, 18, 20]\n"
          ]
        }
      ]
    },
    {
      "cell_type": "code",
      "source": [
        "# Exercício 8 - Transforme o resultado desta função range em uma lista: range(5, 45, 2)\n",
        "\n",
        "nums = range(5, 45, 2)\n",
        "lista3 = []\n",
        "\n",
        "for i in nums:\n",
        "  lista3.append(i)\n",
        "\n",
        "print(lista3)"
      ],
      "metadata": {
        "colab": {
          "base_uri": "https://localhost:8080/"
        },
        "id": "V_NAVQL-WwBJ",
        "outputId": "f53d8878-2f44-49c0-9183-d676ba68e06a"
      },
      "execution_count": 20,
      "outputs": [
        {
          "output_type": "stream",
          "name": "stdout",
          "text": [
            "[5, 7, 9, 11, 13, 15, 17, 19, 21, 23, 25, 27, 29, 31, 33, 35, 37, 39, 41, 43]\n"
          ]
        }
      ]
    },
    {
      "cell_type": "code",
      "source": [
        "# Exercício 9 - Faça a correção dos erros no código abaixo e execute o programa. Dica: são 3 erros.\n",
        "\n",
        "temperatura = float(input('Qual a temperatura? '))\n",
        "if temperatura > 30:  \n",
        "  print('Vista roupas leves.')\n",
        "else:\n",
        "    print('Busque seus casacos.')"
      ],
      "metadata": {
        "colab": {
          "base_uri": "https://localhost:8080/"
        },
        "id": "Cumt0At5XCgD",
        "outputId": "52dfeece-2b7d-4529-9d2c-09560b39d2f6"
      },
      "execution_count": 22,
      "outputs": [
        {
          "output_type": "stream",
          "name": "stdout",
          "text": [
            "Qual a temperatura? 40\n",
            "Vista roupas leves.\n"
          ]
        }
      ]
    },
    {
      "cell_type": "code",
      "source": [
        "# Exercício 10 - Faça um programa que conte quantas vezes a letra \"r\" aparece na frase abaixo. Use um placeholder na \n",
        "# sua instrução de impressão\n",
        "\n",
        "# “É melhor, muito melhor, contentar-se com a realidade; se ela não é tão brilhante como os sonhos, tem pelo menos a \n",
        "# vantagem de existir.” (Machado de Assis)\n",
        "\n",
        "frase = \"É melhor, muito melhor, contentar-se com a realidade; se ela não é tão brilhante como os sonhos, tem pelo menos a vantagem de existir.\" \n",
        "qtd = 0\n",
        "\n",
        "for i in frase:\n",
        "  if i == 'r':\n",
        "    qtd += 1\n",
        "\n",
        "print('A letra r aparece %s vezes na frase' %(qtd))"
      ],
      "metadata": {
        "colab": {
          "base_uri": "https://localhost:8080/"
        },
        "id": "Fwk0ge96XOtm",
        "outputId": "304bef83-fb30-4f9c-867e-320b28e33e2d"
      },
      "execution_count": 25,
      "outputs": [
        {
          "output_type": "stream",
          "name": "stdout",
          "text": [
            "A letra r aparece 6 vezes na frase\n"
          ]
        }
      ]
    }
  ]
}