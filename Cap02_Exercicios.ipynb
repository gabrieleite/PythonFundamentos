{
  "nbformat": 4,
  "nbformat_minor": 0,
  "metadata": {
    "colab": {
      "name": "Cap02_Exercicios.ipynb",
      "provenance": [],
      "collapsed_sections": [],
      "authorship_tag": "ABX9TyM8Na1/Io+eYIZBMpR1eqFv",
      "include_colab_link": true
    },
    "kernelspec": {
      "name": "python3",
      "display_name": "Python 3"
    },
    "language_info": {
      "name": "python"
    }
  },
  "cells": [
    {
      "cell_type": "markdown",
      "metadata": {
        "id": "view-in-github",
        "colab_type": "text"
      },
      "source": [
        "<a href=\"https://colab.research.google.com/github/gabrieleite/PythonFundamentos/blob/main/Cap02_Exercicios.ipynb\" target=\"_parent\"><img src=\"https://colab.research.google.com/assets/colab-badge.svg\" alt=\"Open In Colab\"/></a>"
      ]
    },
    {
      "cell_type": "markdown",
      "source": [
        "# Exercícios do capítulo 2"
      ],
      "metadata": {
        "id": "EY_AwwI5XXVr"
      }
    },
    {
      "cell_type": "code",
      "source": [
        " # Exercício 1 - Imprima na tela os números de 1 a 10. Use uma lista para armazenar os números.\n",
        " lista = [1,2,3,4,5,6,7,8,9,10]\n",
        " print(lista)"
      ],
      "metadata": {
        "colab": {
          "base_uri": "https://localhost:8080/"
        },
        "id": "b0q4g5UHXcA7",
        "outputId": "99e361d4-bcc5-4d72-85c3-0604d479a236"
      },
      "execution_count": 2,
      "outputs": [
        {
          "output_type": "stream",
          "name": "stdout",
          "text": [
            "[1, 2, 3, 4, 5, 6, 7, 8, 9, 10]\n"
          ]
        }
      ]
    },
    {
      "cell_type": "code",
      "source": [
        "# Exercício 2 - Crie uma lista de 5 objetos e imprima na tela\n",
        "lista2 = [\"Panela\", \"Jarra\", \"Colher\", \"Espátula\", \"Escorredor\"]\n",
        "print(lista2)"
      ],
      "metadata": {
        "colab": {
          "base_uri": "https://localhost:8080/"
        },
        "id": "GzXBHJcLi0Kp",
        "outputId": "c1dc0fd6-9c28-4059-93ae-7a815a838de2"
      },
      "execution_count": 3,
      "outputs": [
        {
          "output_type": "stream",
          "name": "stdout",
          "text": [
            "['Panela', 'Jarra', 'Colher', 'Espátula', 'Escorredor']\n"
          ]
        }
      ]
    },
    {
      "cell_type": "code",
      "source": [
        "# Exercício 3 - Crie duas strings e concatene as duas em uma terceira string\n",
        "string1 = \"Exercício\"\n",
        "string2 = \"Concluído\"\n",
        "string3 = string1 + \" \" + string2\n",
        "print(string3)"
      ],
      "metadata": {
        "colab": {
          "base_uri": "https://localhost:8080/"
        },
        "id": "uIDa4m1BjOyD",
        "outputId": "591011be-ad45-4b6f-eae4-f0f10992b52b"
      },
      "execution_count": 4,
      "outputs": [
        {
          "output_type": "stream",
          "name": "stdout",
          "text": [
            "Exercício Concluído\n"
          ]
        }
      ]
    },
    {
      "cell_type": "code",
      "source": [
        "# Exercício 4 - Crie uma tupla com os seguintes elementos: 1, 2, 2, 3, 4, 4, 4, 5 e depois utilize a função count do \n",
        "# objeto tupla para verificar quantas vezes o número 4 aparece na tupla\n",
        "tupla1 = (1,2,2,3,4,4,4,5)\n",
        "tupla1.count(4)"
      ],
      "metadata": {
        "colab": {
          "base_uri": "https://localhost:8080/"
        },
        "id": "QbnUHBojjdW9",
        "outputId": "46c1fa20-c163-44aa-f4f6-c43c000f2562"
      },
      "execution_count": 5,
      "outputs": [
        {
          "output_type": "execute_result",
          "data": {
            "text/plain": [
              "3"
            ]
          },
          "metadata": {},
          "execution_count": 5
        }
      ]
    },
    {
      "cell_type": "code",
      "source": [
        "# Exercício 5 - Crie um dicionário vazio e imprima na tela\n",
        "dicvazio = {}\n",
        "print(dicvazio)"
      ],
      "metadata": {
        "colab": {
          "base_uri": "https://localhost:8080/"
        },
        "id": "-QyRSBUCjpv6",
        "outputId": "e16ecc1d-1a5a-483c-ea1a-ab88fe8b7c01"
      },
      "execution_count": 6,
      "outputs": [
        {
          "output_type": "stream",
          "name": "stdout",
          "text": [
            "{}\n"
          ]
        }
      ]
    },
    {
      "cell_type": "code",
      "source": [
        "# Exercício 6 - Crie um dicionário com 3 chaves e 3 valores e imprima na tela\n",
        "dic1 = {'key1': 'Pão', 'key2': 'Manteiga', 'key3': 'Margarina'}\n",
        "print(dic1)"
      ],
      "metadata": {
        "colab": {
          "base_uri": "https://localhost:8080/"
        },
        "id": "628k50C5jyif",
        "outputId": "2c5945fe-d7e4-4624-8bdd-7e4b07357b26"
      },
      "execution_count": 7,
      "outputs": [
        {
          "output_type": "stream",
          "name": "stdout",
          "text": [
            "{'key1': 'Pão', 'key2': 'Manteiga', 'key3': 'Margarina'}\n"
          ]
        }
      ]
    },
    {
      "cell_type": "code",
      "source": [
        "# Exercício 7 - Adicione mais um elemento ao dicionário criado no exercício anterior e imprima na tela\n",
        "dic1['k4'] = 'Requeijão'\n",
        "print(dic1)"
      ],
      "metadata": {
        "colab": {
          "base_uri": "https://localhost:8080/"
        },
        "id": "Ja6CdhDmkFyp",
        "outputId": "19c93c54-bccf-4494-d3d4-4dde730cbc69"
      },
      "execution_count": 8,
      "outputs": [
        {
          "output_type": "stream",
          "name": "stdout",
          "text": [
            "{'key1': 'Pão', 'key2': 'Manteiga', 'key3': 'Margarina', 'k4': 'Requeijão'}\n"
          ]
        }
      ]
    },
    {
      "cell_type": "code",
      "source": [
        "# Exercício 8 - Crie um dicionário com 3 chaves e 3 valores. Um dos valores deve ser uma lista de 2 elementos numéricos. \n",
        "# Imprima o dicionário na tela.\n",
        "\n",
        "dic2 = {'um' : 'Valor1', 'dois' : ['valor2.1', 'valor2.2', 'valor2.3'], 'tres': 'Valor3'}\n",
        "print(dic2)"
      ],
      "metadata": {
        "colab": {
          "base_uri": "https://localhost:8080/"
        },
        "id": "GG0p5qHWkWx_",
        "outputId": "7716e852-d930-459c-eb81-f4866a962494"
      },
      "execution_count": 9,
      "outputs": [
        {
          "output_type": "stream",
          "name": "stdout",
          "text": [
            "{'um': 'Valor1', 'dois': ['valor2.1', 'valor2.2', 'valor2.3'], 'tres': 'Valor3'}\n"
          ]
        }
      ]
    },
    {
      "cell_type": "code",
      "source": [
        "# Exercício 9 - Crie uma lista de 4 elementos. O primeiro elemento deve ser uma string, \n",
        "# o segundo uma tupla de 2 elementos, o terceiro um dcionário com 2 chaves e 2 valores e \n",
        "# o quarto elemento um valor do tipo float.\n",
        "# Imprima a lista na tela.\n",
        "\n",
        "lista = ['Primeiro', (2, 3), {'key1': 1, 'key2':2}, 3.2]\n",
        "print(lista)"
      ],
      "metadata": {
        "colab": {
          "base_uri": "https://localhost:8080/"
        },
        "id": "XKA9bpqwk0mj",
        "outputId": "a0053df8-a200-4434-ca78-e7a4ecf5e480"
      },
      "execution_count": 10,
      "outputs": [
        {
          "output_type": "stream",
          "name": "stdout",
          "text": [
            "['Primeiro', (2, 3), {'key1': 1, 'key2': 2}, 3.2]\n"
          ]
        }
      ]
    },
    {
      "cell_type": "code",
      "source": [
        "# Exercício 10 - Considere a string abaixo. Imprima na tela apenas os caracteres da posição 1 a 18.\n",
        "frase = 'Cientista de Dados é o profissional mais sexy do século XXI'\n",
        "frase[0:18]"
      ],
      "metadata": {
        "colab": {
          "base_uri": "https://localhost:8080/",
          "height": 36
        },
        "id": "T6iaWdCOlIC1",
        "outputId": "7c8ea8d5-13b4-47d1-bb58-dd19e8ede7ea"
      },
      "execution_count": 12,
      "outputs": [
        {
          "output_type": "execute_result",
          "data": {
            "text/plain": [
              "'Cientista de Dados'"
            ],
            "application/vnd.google.colaboratory.intrinsic+json": {
              "type": "string"
            }
          },
          "metadata": {},
          "execution_count": 12
        }
      ]
    }
  ]
}