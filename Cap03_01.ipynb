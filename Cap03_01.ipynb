{
  "nbformat": 4,
  "nbformat_minor": 0,
  "metadata": {
    "colab": {
      "name": "Cap03_01.ipynb",
      "provenance": [],
      "authorship_tag": "ABX9TyO/AEZYz7o03BaX2pTYeOfX",
      "include_colab_link": true
    },
    "kernelspec": {
      "name": "python3",
      "display_name": "Python 3"
    },
    "language_info": {
      "name": "python"
    }
  },
  "cells": [
    {
      "cell_type": "markdown",
      "metadata": {
        "id": "view-in-github",
        "colab_type": "text"
      },
      "source": [
        "<a href=\"https://colab.research.google.com/github/gabrieleite/PythonFundamentos/blob/main/Cap03_01.ipynb\" target=\"_parent\"><img src=\"https://colab.research.google.com/assets/colab-badge.svg\" alt=\"Open In Colab\"/></a>"
      ]
    },
    {
      "cell_type": "markdown",
      "source": [
        "#Condicional If"
      ],
      "metadata": {
        "id": "o72P9hdDAk_G"
      }
    },
    {
      "cell_type": "code",
      "source": [
        "# Condicional IF\n",
        "if 5 > 2:\n",
        "  print(\"Python funciona!\")"
      ],
      "metadata": {
        "colab": {
          "base_uri": "https://localhost:8080/"
        },
        "id": "Qp4o9JfqAoRu",
        "outputId": "ef251abf-4d33-4f45-c389-ad32bdc6be58"
      },
      "execution_count": 1,
      "outputs": [
        {
          "output_type": "stream",
          "name": "stdout",
          "text": [
            "Python funciona!\n"
          ]
        }
      ]
    },
    {
      "cell_type": "code",
      "source": [
        "# Statement If...Else \n",
        "if 5 < 2:\n",
        "  print(\"Python funciona!\")\n",
        "else:\n",
        "  print(\"Algo está errado!\")"
      ],
      "metadata": {
        "colab": {
          "base_uri": "https://localhost:8080/"
        },
        "id": "cfImFn7RAwTP",
        "outputId": "02e85cdb-6a36-48f3-8c42-bcd049c0d808"
      },
      "execution_count": 2,
      "outputs": [
        {
          "output_type": "stream",
          "name": "stdout",
          "text": [
            "Algo está errado!\n"
          ]
        }
      ]
    },
    {
      "cell_type": "code",
      "source": [
        "6 > 3"
      ],
      "metadata": {
        "colab": {
          "base_uri": "https://localhost:8080/"
        },
        "id": "MepFM-UcA6wN",
        "outputId": "d2480340-d68e-41a6-9b51-3d7f93ab6cc5"
      },
      "execution_count": 3,
      "outputs": [
        {
          "output_type": "execute_result",
          "data": {
            "text/plain": [
              "True"
            ]
          },
          "metadata": {},
          "execution_count": 3
        }
      ]
    },
    {
      "cell_type": "code",
      "source": [
        "3 > 7"
      ],
      "metadata": {
        "colab": {
          "base_uri": "https://localhost:8080/"
        },
        "id": "HqnHEG3MA8A7",
        "outputId": "1f3fa0ae-e13f-4d6f-ea00-0b9441020f31"
      },
      "execution_count": 4,
      "outputs": [
        {
          "output_type": "execute_result",
          "data": {
            "text/plain": [
              "False"
            ]
          },
          "metadata": {},
          "execution_count": 4
        }
      ]
    },
    {
      "cell_type": "code",
      "source": [
        "4 < 8"
      ],
      "metadata": {
        "colab": {
          "base_uri": "https://localhost:8080/"
        },
        "id": "hKdut56YA9Wn",
        "outputId": "ef76cda9-a8ff-4021-8b89-48e94efb1168"
      },
      "execution_count": 5,
      "outputs": [
        {
          "output_type": "execute_result",
          "data": {
            "text/plain": [
              "True"
            ]
          },
          "metadata": {},
          "execution_count": 5
        }
      ]
    },
    {
      "cell_type": "code",
      "source": [
        "4 >= 4"
      ],
      "metadata": {
        "colab": {
          "base_uri": "https://localhost:8080/"
        },
        "id": "ohbPDPyxBEQ-",
        "outputId": "3f24981b-b76b-44bb-a3a4-c78a2384d539"
      },
      "execution_count": 6,
      "outputs": [
        {
          "output_type": "execute_result",
          "data": {
            "text/plain": [
              "True"
            ]
          },
          "metadata": {},
          "execution_count": 6
        }
      ]
    },
    {
      "cell_type": "code",
      "source": [
        "if 5 == 5:\n",
        "  print(\"Testando Python\")"
      ],
      "metadata": {
        "colab": {
          "base_uri": "https://localhost:8080/"
        },
        "id": "k2xNbf7GBGlq",
        "outputId": "0455e799-2239-4ee5-df18-63e2fc5865a2"
      },
      "execution_count": 7,
      "outputs": [
        {
          "output_type": "stream",
          "name": "stdout",
          "text": [
            "Testando Python\n"
          ]
        }
      ]
    },
    {
      "cell_type": "code",
      "source": [
        "if True: \n",
        "  print(\"Parece que funciona\")"
      ],
      "metadata": {
        "colab": {
          "base_uri": "https://localhost:8080/"
        },
        "id": "7SEZ6KLFBYuk",
        "outputId": "bfe1c530-1000-41d6-98ef-6b29a72c8c65"
      },
      "execution_count": 8,
      "outputs": [
        {
          "output_type": "stream",
          "name": "stdout",
          "text": [
            "Parece que funciona\n"
          ]
        }
      ]
    },
    {
      "cell_type": "markdown",
      "source": [
        "# Condicionais Aninhados"
      ],
      "metadata": {
        "id": "dx3MZnfUBg_w"
      }
    },
    {
      "cell_type": "code",
      "source": [
        "idade = 18\n",
        "if idade > 17: \n",
        "  print(\"Você pode dirigir!\")"
      ],
      "metadata": {
        "colab": {
          "base_uri": "https://localhost:8080/"
        },
        "id": "vwCYdQq5BjLS",
        "outputId": "c7fafaa3-ef9d-4bdf-8de8-7639a80f20bc"
      },
      "execution_count": 9,
      "outputs": [
        {
          "output_type": "stream",
          "name": "stdout",
          "text": [
            "Você pode dirigir!\n"
          ]
        }
      ]
    },
    {
      "cell_type": "code",
      "source": [
        "nome = \"Gabriela\"\n",
        "if idade > 13:\n",
        "  if nome == \"Gabriela\":\n",
        "    print(\"OK Gabi, você está autorizada a entrar!\")\n",
        "  else:\n",
        "    print(\"Sinto muito, mas você não pode entrar!\")"
      ],
      "metadata": {
        "colab": {
          "base_uri": "https://localhost:8080/"
        },
        "id": "0xg0PLPlBqR8",
        "outputId": "b48060e3-b939-487a-d8af-e2820c228434"
      },
      "execution_count": 10,
      "outputs": [
        {
          "output_type": "stream",
          "name": "stdout",
          "text": [
            "OK Gabi, você está autorizada a entrar!\n"
          ]
        }
      ]
    },
    {
      "cell_type": "code",
      "source": [
        "idade = 13\n",
        "nome = \"Gabi\"\n",
        "if idade >= 13 and nome == \"Gabi\":\n",
        "  print(\"OK \" + nome + \", você pode entrar!\")"
      ],
      "metadata": {
        "colab": {
          "base_uri": "https://localhost:8080/"
        },
        "id": "83O5aBKjB8n2",
        "outputId": "19ef44dd-b8a2-4c85-9ebd-6395fbbd7b04"
      },
      "execution_count": 12,
      "outputs": [
        {
          "output_type": "stream",
          "name": "stdout",
          "text": [
            "OK Gabi, você pode entrar!\n"
          ]
        }
      ]
    },
    {
      "cell_type": "code",
      "source": [
        "idade = 12\n",
        "nome = \"Gabi\"\n",
        "if (idade >= 13) or (nome == \"Gabi\"):\n",
        "  print(\"OK \" + nome + \", você pode entrar\")"
      ],
      "metadata": {
        "colab": {
          "base_uri": "https://localhost:8080/"
        },
        "id": "oodTgGAACNkj",
        "outputId": "0611885a-1d8c-4e6d-9ecb-abc77d137a43"
      },
      "execution_count": 13,
      "outputs": [
        {
          "output_type": "stream",
          "name": "stdout",
          "text": [
            "OK Gabi, você pode entrar\n"
          ]
        }
      ]
    },
    {
      "cell_type": "markdown",
      "source": [
        "# Elif"
      ],
      "metadata": {
        "id": "fg6Il4uCCwm2"
      }
    },
    {
      "cell_type": "code",
      "source": [
        "dia = \"Terça\"\n",
        "if dia == \"Segunda\": \n",
        "  print(\"Hoje fará sol!\")\n",
        "else: \n",
        "  print(\"Hoje choverá!\")"
      ],
      "metadata": {
        "colab": {
          "base_uri": "https://localhost:8080/"
        },
        "id": "HmtxiomPCxYT",
        "outputId": "815c4d77-1902-4a52-8611-aac2c3b20fd2"
      },
      "execution_count": 14,
      "outputs": [
        {
          "output_type": "stream",
          "name": "stdout",
          "text": [
            "Hoje choverá!\n"
          ]
        }
      ]
    },
    {
      "cell_type": "code",
      "source": [
        "if dia == \"Segunda\": \n",
        "  print(\"Hoje fará sol!\")\n",
        "elif dia == \"Terça\":\n",
        "  print(\"Hoje choverá!\")\n",
        "else: \n",
        "  print(\"Sem previsão do tempo para o dia selecionado!\")"
      ],
      "metadata": {
        "colab": {
          "base_uri": "https://localhost:8080/"
        },
        "id": "iddNk1E-C8np",
        "outputId": "40c39481-77d8-4b08-e473-71d3a4c2ae94"
      },
      "execution_count": 15,
      "outputs": [
        {
          "output_type": "stream",
          "name": "stdout",
          "text": [
            "Hoje choverá!\n"
          ]
        }
      ]
    },
    {
      "cell_type": "markdown",
      "source": [
        "# Operadores lógicos"
      ],
      "metadata": {
        "id": "DiQEa5wpDMKq"
      }
    },
    {
      "cell_type": "code",
      "source": [
        "idade = 18\n",
        "nome = \"Gabi\"\n",
        "if idade > 17:\n",
        "  print(\"Você pode dirigir\")"
      ],
      "metadata": {
        "colab": {
          "base_uri": "https://localhost:8080/"
        },
        "id": "Ems0_D57DOsN",
        "outputId": "b29baf65-f52c-4524-c765-7828531621f3"
      },
      "execution_count": 16,
      "outputs": [
        {
          "output_type": "stream",
          "name": "stdout",
          "text": [
            "Você pode dirigir\n"
          ]
        }
      ]
    },
    {
      "cell_type": "code",
      "source": [
        "idade = 18\n",
        "if idade > 17 and nome == \"Gabi\":\n",
        "  print(\"Autorizado\")"
      ],
      "metadata": {
        "colab": {
          "base_uri": "https://localhost:8080/"
        },
        "id": "wLm_Hns-Dc6p",
        "outputId": "8059faa4-ee0f-4e44-8f68-5d53a1c85892"
      },
      "execution_count": 18,
      "outputs": [
        {
          "output_type": "stream",
          "name": "stdout",
          "text": [
            "Autorizado\n"
          ]
        }
      ]
    },
    {
      "cell_type": "code",
      "source": [
        "# Usando mais de uma condição na claúsula if\n",
        "\n",
        "disciplina = input('Digite o nome da disciplina: ')\n",
        "nota_fin = input('Digite a nota final (entre 0 e 100): ')\n",
        "\n",
        "if disciplina == 'Geografia' and nota_fin >= '70':\n",
        "  print('Você foi aprovado!')\n",
        "else: \n",
        "  print('Sinto muito, você reprovou!')"
      ],
      "metadata": {
        "colab": {
          "base_uri": "https://localhost:8080/"
        },
        "id": "4bokFxjRDlc-",
        "outputId": "82e1d999-5467-4052-a010-298e030b8657"
      },
      "execution_count": 22,
      "outputs": [
        {
          "output_type": "stream",
          "name": "stdout",
          "text": [
            "Digite o nome da disciplina: Geografia\n",
            "Digite a nota final (entre 0 e 100): 85\n",
            "Você foi aprovado!\n"
          ]
        }
      ]
    },
    {
      "cell_type": "code",
      "source": [
        "# Usando mais de uma condição na cláusula if e introduzindo Placeholders\n",
        "\n",
        "disciplina = input('Disciplina: ')\n",
        "nota_fin = input('Nota final (entre 0 e 100): ')\n",
        "semestre = input('Semestre (1 a 4): ')\n",
        "\n",
        "if disciplina == 'Geografia' and nota_fin >= '50' and int(semestre) != 1:\n",
        "  print('Você foi aprovado em %s com média final %r!' %(disciplina, nota_fin))\n",
        "else: \n",
        "  print('Sinto muito, você reprovou!')"
      ],
      "metadata": {
        "colab": {
          "base_uri": "https://localhost:8080/"
        },
        "id": "Tcl7p8NfEJFq",
        "outputId": "70278be8-5a8c-426f-84cb-724c3f2f01a8"
      },
      "execution_count": 27,
      "outputs": [
        {
          "output_type": "stream",
          "name": "stdout",
          "text": [
            "Disciplina: Geografia\n",
            "Nota final (entre 0 e 100): 50\n",
            "Semestre (1 a 4): 3\n",
            "Você foi aprovado em Geografia com média final '50'!\n"
          ]
        }
      ]
    }
  ]
}