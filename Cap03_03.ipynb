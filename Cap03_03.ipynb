{
  "nbformat": 4,
  "nbformat_minor": 0,
  "metadata": {
    "colab": {
      "name": "Cap03_03.ipynb",
      "provenance": [],
      "authorship_tag": "ABX9TyPBQtcfH8KPeYYD+mY4U2g2",
      "include_colab_link": true
    },
    "kernelspec": {
      "name": "python3",
      "display_name": "Python 3"
    },
    "language_info": {
      "name": "python"
    }
  },
  "cells": [
    {
      "cell_type": "markdown",
      "metadata": {
        "id": "view-in-github",
        "colab_type": "text"
      },
      "source": [
        "<a href=\"https://colab.research.google.com/github/gabrieleite/PythonFundamentos/blob/main/Cap03_03.ipynb\" target=\"_parent\"><img src=\"https://colab.research.google.com/assets/colab-badge.svg\" alt=\"Open In Colab\"/></a>"
      ]
    },
    {
      "cell_type": "markdown",
      "source": [
        "# While"
      ],
      "metadata": {
        "id": "SkOJ9ZavJudQ"
      }
    },
    {
      "cell_type": "code",
      "source": [
        "# Usando o loop while para imprimir os valores de 0 a 9\n",
        "counter = 0\n",
        "while counter < 10:\n",
        "  print(counter)\n",
        "  counter = counter + 1"
      ],
      "metadata": {
        "colab": {
          "base_uri": "https://localhost:8080/"
        },
        "id": "8gi50esvJvV9",
        "outputId": "0f5ca394-d028-4698-88e6-b34af12a55f6"
      },
      "execution_count": 1,
      "outputs": [
        {
          "output_type": "stream",
          "name": "stdout",
          "text": [
            "0\n",
            "1\n",
            "2\n",
            "3\n",
            "4\n",
            "5\n",
            "6\n",
            "7\n",
            "8\n",
            "9\n"
          ]
        }
      ]
    },
    {
      "cell_type": "code",
      "source": [
        "# Também é possível usar a claúsula else para encerrar o loop while\n",
        "x = 0\n",
        "\n",
        "while x < 10:\n",
        "  print('O valor de x nesta iteração é: ', x)\n",
        "  print(' x ainda é menor que 10, somando 1 a x')\n",
        "  x += 1\n",
        "\n",
        "\n",
        "else:\n",
        "  print('Loop concluído')"
      ],
      "metadata": {
        "colab": {
          "base_uri": "https://localhost:8080/"
        },
        "id": "ayjrsR4SJ5f3",
        "outputId": "75deb807-0c97-4af3-8644-8a37a59f2a24"
      },
      "execution_count": 2,
      "outputs": [
        {
          "output_type": "stream",
          "name": "stdout",
          "text": [
            "O valor de x nesta iteração é:  0\n",
            " x ainda é menor que 10, somando 1 a x\n",
            "O valor de x nesta iteração é:  1\n",
            " x ainda é menor que 10, somando 1 a x\n",
            "O valor de x nesta iteração é:  2\n",
            " x ainda é menor que 10, somando 1 a x\n",
            "O valor de x nesta iteração é:  3\n",
            " x ainda é menor que 10, somando 1 a x\n",
            "O valor de x nesta iteração é:  4\n",
            " x ainda é menor que 10, somando 1 a x\n",
            "O valor de x nesta iteração é:  5\n",
            " x ainda é menor que 10, somando 1 a x\n",
            "O valor de x nesta iteração é:  6\n",
            " x ainda é menor que 10, somando 1 a x\n",
            "O valor de x nesta iteração é:  7\n",
            " x ainda é menor que 10, somando 1 a x\n",
            "O valor de x nesta iteração é:  8\n",
            " x ainda é menor que 10, somando 1 a x\n",
            "O valor de x nesta iteração é:  9\n",
            " x ainda é menor que 10, somando 1 a x\n",
            "Loop concluído\n"
          ]
        }
      ]
    },
    {
      "cell_type": "markdown",
      "source": [
        "# Pass, Break, Continue\n"
      ],
      "metadata": {
        "id": "I7AizDGAKUgG"
      }
    },
    {
      "cell_type": "code",
      "source": [
        "counter = 0\n",
        "while counter < 100:\n",
        "  if counter == 10:\n",
        "    break\n",
        "  else:\n",
        "    pass\n",
        "  print(counter)\n",
        "  counter = counter + 1"
      ],
      "metadata": {
        "colab": {
          "base_uri": "https://localhost:8080/"
        },
        "id": "j6puXny7KYOS",
        "outputId": "db92e21c-af9a-4b5c-b0f2-9c4b87301451"
      },
      "execution_count": 4,
      "outputs": [
        {
          "output_type": "stream",
          "name": "stdout",
          "text": [
            "0\n",
            "1\n",
            "2\n",
            "3\n",
            "4\n",
            "5\n",
            "6\n",
            "7\n",
            "8\n",
            "9\n"
          ]
        }
      ]
    },
    {
      "cell_type": "code",
      "source": [
        "for verificador in 'Python':\n",
        "  if verificador == 'h':\n",
        "    continue\n",
        "  print(verificador)"
      ],
      "metadata": {
        "colab": {
          "base_uri": "https://localhost:8080/"
        },
        "id": "iNIat7TtLIKC",
        "outputId": "0cc76c88-4576-4843-d810-20ccd59f35cc"
      },
      "execution_count": 5,
      "outputs": [
        {
          "output_type": "stream",
          "name": "stdout",
          "text": [
            "P\n",
            "y\n",
            "t\n",
            "o\n",
            "n\n"
          ]
        }
      ]
    },
    {
      "cell_type": "markdown",
      "source": [
        "# While e For juntos "
      ],
      "metadata": {
        "id": "tuzO41WlLVpF"
      }
    },
    {
      "cell_type": "code",
      "source": [
        "for i in range(2,30):\n",
        "  j = 2\n",
        "  counter = 0\n",
        "  while j < i:\n",
        "    if i % j == 0:\n",
        "      counter = 1\n",
        "      j = j + 1\n",
        "    else:\n",
        "      j = j + 1\n",
        "\n",
        "  if counter == 0:\n",
        "    print(str(i) + \" é um número primo\")\n",
        "    counter = 0\n",
        "  else: \n",
        "    counter = 0"
      ],
      "metadata": {
        "colab": {
          "base_uri": "https://localhost:8080/"
        },
        "id": "rymMhtDjLZmh",
        "outputId": "92561f6a-4fbc-4683-afef-231ba095d85e"
      },
      "execution_count": 6,
      "outputs": [
        {
          "output_type": "stream",
          "name": "stdout",
          "text": [
            "2 é um número primo\n",
            "3 é um número primo\n",
            "5 é um número primo\n",
            "7 é um número primo\n",
            "11 é um número primo\n",
            "13 é um número primo\n",
            "17 é um número primo\n",
            "19 é um número primo\n",
            "23 é um número primo\n",
            "29 é um número primo\n"
          ]
        }
      ]
    }
  ]
}